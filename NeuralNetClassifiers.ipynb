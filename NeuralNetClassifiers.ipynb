{
 "cells": [
  {
   "cell_type": "code",
   "execution_count": 1,
   "metadata": {},
   "outputs": [],
   "source": [
    "import numpy as np \n",
    "import tensorflow as tf\n",
    "from tensorflow import keras\n",
    "from tensorflow.keras import layers\n",
    "import matplotlib.pyplot as plt"
   ]
  },
  {
   "cell_type": "code",
   "execution_count": 2,
   "metadata": {},
   "outputs": [],
   "source": [
    "#I use this because my GPU is not working too well with tensorflow\n",
    "import os\n",
    "os.environ['CUDA_VISIBLE_DEVICES'] = '-1'"
   ]
  },
  {
   "cell_type": "code",
   "execution_count": 3,
   "metadata": {},
   "outputs": [],
   "source": [
    "import utils\n",
    "#Utils has both feature computations and data handling"
   ]
  },
  {
   "cell_type": "markdown",
   "metadata": {},
   "source": [
    "In this notebook I tested my entropy computations as a feature for a dense neural network and compared it to the results without the entropy feature. I also compared it to a convolutional neural network on the raw pixel data.\n",
    "\n",
    "The Adam optimizer seems to give better performance than RMSProp or SGD and with it the convolutional model converged to 67% accuracy, the dense network with only HOG and hue features converged to 55% accuracy and with my entropy data it converged to 59% accuracy. The convolutional neural network is also deeper, had a much larger input space ($3072$ vs $384$), and took about 10 times longer to train so I would expect it to perform better."
   ]
  },
  {
   "cell_type": "code",
   "execution_count": 64,
   "metadata": {},
   "outputs": [],
   "source": [
    "def featurize(data):\n",
    "    #Computes the HOG, cell hue histograms, and cell entropy histograms\n",
    "    fn = lambda x: utils.features(x, n_hog_bins = 8, n_hue_bins=8, n_entropy_bins=8, cell_size=(4,4))\n",
    "    return np.array(fn(img) for img in data)\n",
    "\n",
    "def train_cifar_model(model, data_tuple):\n",
    "    x_train, y_train, x_test, y_test = data_tuple\n",
    "    history = model.fit(\n",
    "        x_train,\n",
    "        y_train,\n",
    "        batch_size=64,\n",
    "        epochs=10,\n",
    "        validation_data=(x_test, y_test),\n",
    "    )\n",
    "    return history"
   ]
  },
  {
   "cell_type": "code",
   "execution_count": 59,
   "metadata": {},
   "outputs": [],
   "source": [
    "def make_dense_model():\n",
    "    model = keras.Sequential(\n",
    "        [\n",
    "            layers.Dense(384, activation=\"relu\", input_shape=(384,)),\n",
    "            layers.Dense(192, activation=\"relu\"),\n",
    "            layers.Dense(192, activation=\"relu\"),\n",
    "            layers.Dense(10, activation=\"softmax\")\n",
    "        ]\n",
    "    )\n",
    "    model.compile(\n",
    "        optimizer=keras.optimizers.Adam(),\n",
    "        loss='categorical_crossentropy',\n",
    "        metrics=['accuracy'],\n",
    "    )\n",
    "    return model\n",
    "\n",
    "def make_conv_model():\n",
    "    model = keras.Sequential(\n",
    "        [\n",
    "            layers.Conv2D(32, (3, 3), activation=\"relu\", input_shape=(32, 32, 3)),\n",
    "            layers.MaxPooling2D(2,2),\n",
    "            layers.Conv2D(64, (3, 3), activation=\"relu\", input_shape=(32, 32, 3)),\n",
    "            layers.MaxPooling2D(2,2),\n",
    "            layers.Conv2D(64, (3, 3), activation=\"relu\", input_shape=(32, 32, 3)),\n",
    "            layers.Flatten(),\n",
    "            layers.Dense(64, activation=\"relu\"),\n",
    "            layers.Dense(10, activation=\"softmax\")\n",
    "        ]\n",
    "    )\n",
    "    model.compile(optimizer=keras.optimizers.Adam(),\n",
    "          loss='categorical_crossentropy',\n",
    "          metrics=['accuracy'])\n",
    "    return model"
   ]
  },
  {
   "cell_type": "code",
   "execution_count": 65,
   "metadata": {},
   "outputs": [
    {
     "name": "stdout",
     "output_type": "stream",
     "text": [
      "Model: \"sequential_16\"\n",
      "_________________________________________________________________\n",
      "Layer (type)                 Output Shape              Param #   \n",
      "=================================================================\n",
      "dense_52 (Dense)             (None, 384)               147840    \n",
      "_________________________________________________________________\n",
      "dense_53 (Dense)             (None, 192)               73920     \n",
      "_________________________________________________________________\n",
      "dense_54 (Dense)             (None, 192)               37056     \n",
      "_________________________________________________________________\n",
      "dense_55 (Dense)             (None, 10)                1930      \n",
      "=================================================================\n",
      "Total params: 260,746\n",
      "Trainable params: 260,746\n",
      "Non-trainable params: 0\n",
      "_________________________________________________________________\n"
     ]
    }
   ],
   "source": [
    "dense_model = make_dense_model()\n",
    "dense_model.summary()"
   ]
  },
  {
   "cell_type": "code",
   "execution_count": 66,
   "metadata": {},
   "outputs": [
    {
     "name": "stdout",
     "output_type": "stream",
     "text": [
      "Train on 50000 samples, validate on 10000 samples\n",
      "Epoch 1/10\n",
      "50000/50000 [==============================] - 3s 59us/sample - loss: 1.5102 - accuracy: 0.4474 - val_loss: 1.4120 - val_accuracy: 0.4931\n",
      "Epoch 2/10\n",
      "50000/50000 [==============================] - 3s 55us/sample - loss: 1.2814 - accuracy: 0.5361 - val_loss: 1.2559 - val_accuracy: 0.5484\n",
      "Epoch 3/10\n",
      "50000/50000 [==============================] - 3s 61us/sample - loss: 1.1947 - accuracy: 0.5730 - val_loss: 1.2231 - val_accuracy: 0.5636\n",
      "Epoch 4/10\n",
      "50000/50000 [==============================] - 3s 68us/sample - loss: 1.1437 - accuracy: 0.5893 - val_loss: 1.2109 - val_accuracy: 0.5752\n",
      "Epoch 5/10\n",
      "50000/50000 [==============================] - 3s 62us/sample - loss: 1.0899 - accuracy: 0.6111 - val_loss: 1.2028 - val_accuracy: 0.5798\n",
      "Epoch 6/10\n",
      "50000/50000 [==============================] - 3s 56us/sample - loss: 1.0459 - accuracy: 0.6281 - val_loss: 1.2231 - val_accuracy: 0.5716\n",
      "Epoch 7/10\n",
      "50000/50000 [==============================] - 3s 60us/sample - loss: 1.0091 - accuracy: 0.6399 - val_loss: 1.2045 - val_accuracy: 0.5765\n",
      "Epoch 8/10\n",
      "50000/50000 [==============================] - 3s 57us/sample - loss: 0.9645 - accuracy: 0.6542 - val_loss: 1.1963 - val_accuracy: 0.5896\n",
      "Epoch 9/10\n",
      "50000/50000 [==============================] - 3s 55us/sample - loss: 0.9254 - accuracy: 0.6676 - val_loss: 1.2216 - val_accuracy: 0.5856\n",
      "Epoch 10/10\n",
      "50000/50000 [==============================] - 3s 54us/sample - loss: 0.8797 - accuracy: 0.6878 - val_loss: 1.1747 - val_accuracy: 0.5945\n"
     ]
    },
    {
     "data": {
      "text/plain": [
       "<tensorflow.python.keras.callbacks.History at 0x1f521d8be48>"
      ]
     },
     "execution_count": 66,
     "metadata": {},
     "output_type": "execute_result"
    }
   ],
   "source": [
    "train_cifar_model(dense_model, utils.load_cifar(raw_data=False))"
   ]
  },
  {
   "cell_type": "code",
   "execution_count": 67,
   "metadata": {},
   "outputs": [
    {
     "name": "stdout",
     "output_type": "stream",
     "text": [
      "Model: \"sequential_17\"\n",
      "_________________________________________________________________\n",
      "Layer (type)                 Output Shape              Param #   \n",
      "=================================================================\n",
      "conv2d_18 (Conv2D)           (None, 30, 30, 32)        896       \n",
      "_________________________________________________________________\n",
      "max_pooling2d_12 (MaxPooling (None, 15, 15, 32)        0         \n",
      "_________________________________________________________________\n",
      "conv2d_19 (Conv2D)           (None, 13, 13, 64)        18496     \n",
      "_________________________________________________________________\n",
      "max_pooling2d_13 (MaxPooling (None, 6, 6, 64)          0         \n",
      "_________________________________________________________________\n",
      "conv2d_20 (Conv2D)           (None, 4, 4, 64)          36928     \n",
      "_________________________________________________________________\n",
      "flatten_6 (Flatten)          (None, 1024)              0         \n",
      "_________________________________________________________________\n",
      "dense_56 (Dense)             (None, 64)                65600     \n",
      "_________________________________________________________________\n",
      "dense_57 (Dense)             (None, 10)                650       \n",
      "=================================================================\n",
      "Total params: 122,570\n",
      "Trainable params: 122,570\n",
      "Non-trainable params: 0\n",
      "_________________________________________________________________\n"
     ]
    }
   ],
   "source": [
    "conv_model = make_conv_model()\n",
    "conv_model.summary()"
   ]
  },
  {
   "cell_type": "code",
   "execution_count": 68,
   "metadata": {},
   "outputs": [
    {
     "name": "stdout",
     "output_type": "stream",
     "text": [
      "Train on 50000 samples, validate on 10000 samples\n",
      "Epoch 1/10\n",
      "50000/50000 [==============================] - 38s 766us/sample - loss: 1.8884 - accuracy: 0.3541 - val_loss: 1.4354 - val_accuracy: 0.4657\n",
      "Epoch 2/10\n",
      "50000/50000 [==============================] - 34s 674us/sample - loss: 1.3280 - accuracy: 0.5239 - val_loss: 1.2788 - val_accuracy: 0.5511\n",
      "Epoch 3/10\n",
      "50000/50000 [==============================] - 33s 668us/sample - loss: 1.1555 - accuracy: 0.5919 - val_loss: 1.1340 - val_accuracy: 0.5987\n",
      "Epoch 4/10\n",
      "50000/50000 [==============================] - 35s 699us/sample - loss: 1.0473 - accuracy: 0.6336 - val_loss: 1.0908 - val_accuracy: 0.6214\n",
      "Epoch 5/10\n",
      "50000/50000 [==============================] - 32s 637us/sample - loss: 0.9672 - accuracy: 0.6627 - val_loss: 1.0741 - val_accuracy: 0.6300\n",
      "Epoch 6/10\n",
      "50000/50000 [==============================] - 31s 628us/sample - loss: 0.9071 - accuracy: 0.6832 - val_loss: 1.0201 - val_accuracy: 0.6504\n",
      "Epoch 7/10\n",
      "50000/50000 [==============================] - 31s 625us/sample - loss: 0.8436 - accuracy: 0.7025 - val_loss: 1.0135 - val_accuracy: 0.6597\n",
      "Epoch 8/10\n",
      "50000/50000 [==============================] - 30s 608us/sample - loss: 0.7838 - accuracy: 0.7270 - val_loss: 1.0766 - val_accuracy: 0.6454\n",
      "Epoch 9/10\n",
      "50000/50000 [==============================] - 30s 605us/sample - loss: 0.7411 - accuracy: 0.7400 - val_loss: 0.9960 - val_accuracy: 0.6758\n",
      "Epoch 10/10\n",
      "50000/50000 [==============================] - 32s 636us/sample - loss: 0.6958 - accuracy: 0.7574 - val_loss: 1.0645 - val_accuracy: 0.6685\n"
     ]
    },
    {
     "data": {
      "text/plain": [
       "<tensorflow.python.keras.callbacks.History at 0x1f524d38408>"
      ]
     },
     "execution_count": 68,
     "metadata": {},
     "output_type": "execute_result"
    }
   ],
   "source": [
    "train_cifar_model(conv_model, utils.load_cifar())"
   ]
  }
 ],
 "metadata": {
  "kernelspec": {
   "display_name": "Python 3",
   "language": "python",
   "name": "python3"
  },
  "language_info": {
   "codemirror_mode": {
    "name": "ipython",
    "version": 3
   },
   "file_extension": ".py",
   "mimetype": "text/x-python",
   "name": "python",
   "nbconvert_exporter": "python",
   "pygments_lexer": "ipython3",
   "version": "3.7.7"
  }
 },
 "nbformat": 4,
 "nbformat_minor": 4
}
